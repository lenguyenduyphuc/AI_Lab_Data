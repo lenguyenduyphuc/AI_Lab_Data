{
 "cells": [
  {
   "cell_type": "code",
   "execution_count": 1,
   "id": "c8c2c5aa",
   "metadata": {},
   "outputs": [
    {
     "name": "stdout",
     "output_type": "stream",
     "text": [
      "Merged 9 files ➜ Reddit_data2.xlsx\n"
     ]
    }
   ],
   "source": [
    "import pandas as pd\n",
    "from pathlib import Path\n",
    "\n",
    "# ── CONFIGURABLE PARAMETERS ────────────────────────────\n",
    "SOURCE_DIR   = Path(\"data2\")     # directory holding Reddit_data*.xlsx\n",
    "TARGET_FILE  = Path(\"Reddit_data2.xlsx\")\n",
    "TARGET_SHEET = \"All_Reddit_Data\"\n",
    "# ───────────────────────────────────────────────────────\n",
    "\n",
    "# 1) Collect matching workbooks\n",
    "files = sorted(SOURCE_DIR.glob(\"Reddit_data*.xlsx\"))\n",
    "\n",
    "# 2) Read, annotate, and concatenate\n",
    "frames = []\n",
    "for fp in files:\n",
    "    df = pd.read_excel(fp)               # assumes first sheet in each file\n",
    "    df[\"source_file\"] = fp.name          # lineage column\n",
    "    frames.append(df)\n",
    "\n",
    "merged = pd.concat(frames, ignore_index=True)\n",
    "\n",
    "# 3) Export to a single-sheet workbook\n",
    "with pd.ExcelWriter(TARGET_FILE, engine=\"openpyxl\") as writer:\n",
    "    merged.to_excel(writer, sheet_name=TARGET_SHEET, index=False)\n",
    "\n",
    "print(f\"Merged {len(files)} files ➜ {TARGET_FILE}\")\n"
   ]
  },
  {
   "cell_type": "code",
   "execution_count": null,
   "id": "7ac87f85",
   "metadata": {},
   "outputs": [
    {
     "data": {
      "text/plain": [
       "'Reddit_cleaned.csv'"
      ]
     },
     "execution_count": 4,
     "metadata": {},
     "output_type": "execute_result"
    }
   ],
   "source": [
    "import pandas as pd\n",
    "from pathlib import Path\n",
    "\n",
    "# Load the broken Reddit.csv\n",
    "csv_path = Path(\"Reddit_data2.csv\")\n",
    "df = pd.read_csv(csv_path, quoting=1, encoding=\"utf-8\", on_bad_lines='skip')\n",
    "\n",
    "# Clean all string columns: remove newline characters for CSV stability\n",
    "for col in df.select_dtypes(include=\"object\").columns:\n",
    "    df[col] = df[col].astype(str).str.replace(r\"[\\r\\n]+\", \" \", regex=True)\n",
    "\n",
    "# Save to a cleaned CSV file\n",
    "cleaned_path = Path(\"Reddit_cleaned.csv\")\n",
    "df.to_csv(cleaned_path, index=False, encoding=\"utf-8\", quoting=1)\n",
    "\n",
    "cleaned_path.name\n"
   ]
  }
 ],
 "metadata": {
  "kernelspec": {
   "display_name": "venv",
   "language": "python",
   "name": "python3"
  },
  "language_info": {
   "codemirror_mode": {
    "name": "ipython",
    "version": 3
   },
   "file_extension": ".py",
   "mimetype": "text/x-python",
   "name": "python",
   "nbconvert_exporter": "python",
   "pygments_lexer": "ipython3",
   "version": "3.13.2"
  }
 },
 "nbformat": 4,
 "nbformat_minor": 5
}
