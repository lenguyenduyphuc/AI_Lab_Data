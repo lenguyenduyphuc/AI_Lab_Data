{
 "cells": [
  {
   "cell_type": "code",
   "execution_count": 1,
   "id": "429037b6",
   "metadata": {},
   "outputs": [
    {
     "data": {
      "text/plain": [
       "True"
      ]
     },
     "execution_count": 1,
     "metadata": {},
     "output_type": "execute_result"
    }
   ],
   "source": [
    "import os, json, time\n",
    "from datetime import datetime\n",
    "from pathlib import Path\n",
    "from tqdm import tqdm\n",
    "import praw\n",
    "from dotenv import load_dotenv\n",
    "load_dotenv() "
   ]
  },
  {
   "cell_type": "code",
   "execution_count": 2,
   "id": "2e097f40",
   "metadata": {},
   "outputs": [],
   "source": [
    "reddit = praw.Reddit(\n",
    "    client_id     = os.environ[\"REDDIT_ID\"],\n",
    "    client_secret = os.environ[\"REDDIT_SECRET\"],\n",
    "    user_agent    = os.environ.get(\"REDDIT_UA\",\"teen_scraper/0.1\"),\n",
    "    check_for_async=False\n",
    ")"
   ]
  },
  {
   "cell_type": "code",
   "execution_count": null,
   "id": "104f4132",
   "metadata": {},
   "outputs": [],
   "source": [
    "TARGET_SUBS   = [\n",
    "    \"teenagers\", \"AdviceForTeens\", \"mentalhealth\",\n",
    "    \"relationship_advice\", \"AskReddit\", \"DecidingToBeBetter\",\n",
    "    \"bullying\", \"dating_advice\", \"depression\", \"Parenting\",\n",
    "    \"trueteenagers\", \"teenrelationships\", \"AdviceForTeens\", \"toddlers\"\n",
    "]\n",
    "\n",
    "\n",
    "THEMES = {\n",
    "    \"mental\":          [\"anxiety\", \"depression\", \"therapy\", \"self-harm\", \"panic\", \"adhd\"],\n",
    "    \"online_safety\":   [\"cyberbullying\", \"doxxing\", \"grooming\", \"sextortion\", \"privacy\"],\n",
    "    \"dating\":          [\"dating\", \"crush\", \"breakup\", \"relationship\", \"red flags\"]\n",
    "}\n",
    "\n",
    "\n",
    "RESULTS_PER_SUB  = 250       # submissions per sub to pull (adjust ↑ or ↓)\n",
    "COMMENT_DEPTH    = 2         # levels of comment replies to collect\n",
    "SLEEP_BETWEEN    = 1.0       # seconds – stay under rate limits\n",
    "OUTFILE          = Path(\"teen_wellbeing_dump.jsonl\")"
   ]
  },
  {
   "cell_type": "code",
   "execution_count": 4,
   "id": "8c69e1fa",
   "metadata": {},
   "outputs": [
    {
     "name": "stderr",
     "output_type": "stream",
     "text": [
      "r/teenagers: 0it [00:00, ?it/s]\n",
      "r/AdviceForTeens: 0it [00:00, ?it/s]\n",
      "r/mentalhealth: 0it [00:00, ?it/s]\n",
      "r/relationship_advice: 0it [00:00, ?it/s]\n",
      "r/AskReddit: 0it [00:00, ?it/s]\n",
      "r/DecidingToBeBetter: 0it [00:00, ?it/s]\n",
      "r/bullying: 0it [00:00, ?it/s]\n",
      "r/dating_advice: 0it [00:00, ?it/s]\n",
      "r/depression: 0it [00:00, ?it/s]\n",
      "r/Parenting: 0it [00:00, ?it/s]\n",
      "r/trueteenagers: 0it [00:00, ?it/s]\n",
      "r/teenrelationships: 0it [00:00, ?it/s]\n",
      "r/AdviceForTeens: 0it [00:00, ?it/s]\n",
      "r/toddlers: 0it [00:00, ?it/s]"
     ]
    },
    {
     "name": "stdout",
     "output_type": "stream",
     "text": [
      "✅  Finished. Data written to C:\\Users\\LE NGUYEN DUY PHUC\\Documents\\AI_Lab_Data\\teen_wellbeing_dump.jsonl\n"
     ]
    },
    {
     "name": "stderr",
     "output_type": "stream",
     "text": [
      "\n"
     ]
    }
   ],
   "source": [
    "def matched_theme(text):\n",
    "    text_low = text.lower()\n",
    "    for theme, kwds in THEMES.items():\n",
    "        if any(k in text_low for k in kwds):\n",
    "            return theme\n",
    "    return None\n",
    "\n",
    "with OUTFILE.open(\"w\", encoding=\"utf-8\") as f_out:\n",
    "    for sub_name in TARGET_SUBS:\n",
    "        sub = reddit.subreddit(sub_name)\n",
    "        search_q = \" OR \".join(set(sum(THEMES.values(), [])))\n",
    "        for submission in tqdm(\n",
    "            sub.search(search_q, limit=RESULTS_PER_SUB, sort=\"new\", time_filter=\"year\"),\n",
    "            desc=f\"r/{sub_name}\"\n",
    "        ):\n",
    "            theme = matched_theme(submission.title + \" \" + submission.selftext)\n",
    "            if not theme:\n",
    "                continue \n",
    "\n",
    "            row = {\n",
    "                \"type\":      \"submission\",\n",
    "                \"theme\":     theme,\n",
    "                \"subreddit\": sub_name,\n",
    "                \"title\":     submission.title,\n",
    "                \"body\":      submission.selftext,\n",
    "            }\n",
    "            f_out.write(json.dumps(row) + \"\\n\")\n",
    "\n",
    "            # fetch comments lazily\n",
    "            submission.comments.replace_more(limit=0)\n",
    "            for comment in submission.comments.list():\n",
    "                if comment.depth > COMMENT_DEPTH:\n",
    "                    continue\n",
    "                theme_c = matched_theme(comment.body)\n",
    "                if not theme_c:\n",
    "                    continue\n",
    "                row_c = {\n",
    "                    \"type\":      \"comment\",\n",
    "                    \"theme\":     theme_c,\n",
    "                    \"parent_sub\": sub_name,\n",
    "                    \"body\":      comment.body,\n",
    "                }\n",
    "                f_out.write(json.dumps(row_c) + \"\\n\")\n",
    "            time.sleep(SLEEP_BETWEEN)\n",
    "\n",
    "print(f\"✅  Finished. Data written to {OUTFILE.resolve()}\")"
   ]
  },
  {
   "cell_type": "code",
   "execution_count": null,
   "id": "008a7454",
   "metadata": {},
   "outputs": [],
   "source": []
  },
  {
   "cell_type": "code",
   "execution_count": null,
   "id": "a7453f35",
   "metadata": {},
   "outputs": [],
   "source": []
  }
 ],
 "metadata": {
  "kernelspec": {
   "display_name": "venv",
   "language": "python",
   "name": "python3"
  },
  "language_info": {
   "codemirror_mode": {
    "name": "ipython",
    "version": 3
   },
   "file_extension": ".py",
   "mimetype": "text/x-python",
   "name": "python",
   "nbconvert_exporter": "python",
   "pygments_lexer": "ipython3",
   "version": "3.13.2"
  }
 },
 "nbformat": 4,
 "nbformat_minor": 5
}
